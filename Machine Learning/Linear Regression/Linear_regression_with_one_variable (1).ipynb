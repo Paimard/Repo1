{
  "nbformat": 4,
  "nbformat_minor": 0,
  "metadata": {
    "colab": {
      "name": "Linear regression with one variable.ipynb",
      "provenance": [],
      "collapsed_sections": []
    },
    "kernelspec": {
      "name": "python3",
      "display_name": "Python 3"
    }
  },
  "cells": [
    {
      "cell_type": "code",
      "metadata": {
        "id": "EQiJN4ZdcqW4"
      },
      "source": [
        "import numpy as np\n",
        "import pandas as pd\n",
        "import matplotlib.pyplot as plt\n",
        "from sklearn.linear_model import LinearRegression\n",
        "%matplotlib inline"
      ],
      "execution_count": 99,
      "outputs": []
    },
    {
      "cell_type": "code",
      "metadata": {
        "id": "kGjwzk20csZ0",
        "outputId": "de8e1434-9fae-466f-d241-fc5b9c7c52e2",
        "colab": {
          "base_uri": "https://localhost:8080/",
          "height": 204
        }
      },
      "source": [
        "New_cols=['year','per_capital_income_US$']\n",
        "df=pd.read_csv('/content/Linear Regression with single variable/Canada.csv',  header=None, names=new_cols, skiprows=1)\n",
        "#df=pd.read_table('http://bit.ly/chiporder')\n",
        "df.head()"
      ],
      "execution_count": 100,
      "outputs": [
        {
          "output_type": "execute_result",
          "data": {
            "text/html": [
              "<div>\n",
              "<style scoped>\n",
              "    .dataframe tbody tr th:only-of-type {\n",
              "        vertical-align: middle;\n",
              "    }\n",
              "\n",
              "    .dataframe tbody tr th {\n",
              "        vertical-align: top;\n",
              "    }\n",
              "\n",
              "    .dataframe thead th {\n",
              "        text-align: right;\n",
              "    }\n",
              "</style>\n",
              "<table border=\"1\" class=\"dataframe\">\n",
              "  <thead>\n",
              "    <tr style=\"text-align: right;\">\n",
              "      <th></th>\n",
              "      <th>year</th>\n",
              "      <th>per_capital_income_US$</th>\n",
              "    </tr>\n",
              "  </thead>\n",
              "  <tbody>\n",
              "    <tr>\n",
              "      <th>0</th>\n",
              "      <td>1970</td>\n",
              "      <td>3399.299037</td>\n",
              "    </tr>\n",
              "    <tr>\n",
              "      <th>1</th>\n",
              "      <td>1971</td>\n",
              "      <td>3768.297935</td>\n",
              "    </tr>\n",
              "    <tr>\n",
              "      <th>2</th>\n",
              "      <td>1972</td>\n",
              "      <td>4251.175484</td>\n",
              "    </tr>\n",
              "    <tr>\n",
              "      <th>3</th>\n",
              "      <td>1973</td>\n",
              "      <td>4804.463248</td>\n",
              "    </tr>\n",
              "    <tr>\n",
              "      <th>4</th>\n",
              "      <td>1974</td>\n",
              "      <td>5576.514583</td>\n",
              "    </tr>\n",
              "  </tbody>\n",
              "</table>\n",
              "</div>"
            ],
            "text/plain": [
              "   year  per_capital_income_US$\n",
              "0  1970             3399.299037\n",
              "1  1971             3768.297935\n",
              "2  1972             4251.175484\n",
              "3  1973             4804.463248\n",
              "4  1974             5576.514583"
            ]
          },
          "metadata": {
            "tags": []
          },
          "execution_count": 100
        }
      ]
    },
    {
      "cell_type": "code",
      "metadata": {
        "id": "yEqwH6recwU7",
        "outputId": "7c9f369a-6d45-4ca9-cfbb-99e63bb23373",
        "colab": {
          "base_uri": "https://localhost:8080/",
          "height": 170
        }
      },
      "source": [
        "df.info()"
      ],
      "execution_count": 101,
      "outputs": [
        {
          "output_type": "stream",
          "text": [
            "<class 'pandas.core.frame.DataFrame'>\n",
            "RangeIndex: 47 entries, 0 to 46\n",
            "Data columns (total 2 columns):\n",
            " #   Column                  Non-Null Count  Dtype  \n",
            "---  ------                  --------------  -----  \n",
            " 0   year                    47 non-null     int64  \n",
            " 1   per_capital_income_US$  47 non-null     float64\n",
            "dtypes: float64(1), int64(1)\n",
            "memory usage: 880.0 bytes\n"
          ],
          "name": "stdout"
        }
      ]
    },
    {
      "cell_type": "code",
      "metadata": {
        "id": "6L8R2f6JdRIk",
        "outputId": "9e47b9b7-5412-40bf-8499-9f8e08eb2be6",
        "colab": {
          "base_uri": "https://localhost:8080/",
          "height": 68
        }
      },
      "source": [
        "df.isnull().sum()"
      ],
      "execution_count": 102,
      "outputs": [
        {
          "output_type": "execute_result",
          "data": {
            "text/plain": [
              "year                      0\n",
              "per_capital_income_US$    0\n",
              "dtype: int64"
            ]
          },
          "metadata": {
            "tags": []
          },
          "execution_count": 102
        }
      ]
    },
    {
      "cell_type": "markdown",
      "metadata": {
        "id": "Hw_ZiUp2dsba"
      },
      "source": [
        "**Plotting of Data for better overview Text fett markieren**"
      ]
    },
    {
      "cell_type": "code",
      "metadata": {
        "id": "CGcwE6ybdXT5",
        "outputId": "f0080665-8e25-4573-daef-d914a2b719cb",
        "colab": {
          "base_uri": "https://localhost:8080/",
          "height": 282
        }
      },
      "source": [
        "plt.scatter(df.year,df['per_capital_income_US$'],color='blue',marker='+')"
      ],
      "execution_count": 103,
      "outputs": [
        {
          "output_type": "execute_result",
          "data": {
            "text/plain": [
              "<matplotlib.collections.PathCollection at 0x7f8642444748>"
            ]
          },
          "metadata": {
            "tags": []
          },
          "execution_count": 103
        },
        {
          "output_type": "display_data",
          "data": {
            "image/png": "[encoded data removed]",
            "text/plain": [
              "<Figure size 432x288 with 1 Axes>"
            ]
          },
          "metadata": {
            "tags": [],
            "needs_background": "light"
          }
        }
      ]
    },
    {
      "cell_type": "markdown",
      "metadata": {
        "id": "JCg7i4efWCN6"
      },
      "source": [
        "**Define of independent variable (X) and depend variable (y)**"
      ]
    },
    {
      "cell_type": "code",
      "metadata": {
        "id": "gZeeZRLMf-g3"
      },
      "source": [
        "X=df['year'].values"
      ],
      "execution_count": 104,
      "outputs": []
    },
    {
      "cell_type": "code",
      "metadata": {
        "id": "7XZwaJ5wgSFP"
      },
      "source": [
        "y=df['per_capital_income_US$'].values"
      ],
      "execution_count": 105,
      "outputs": []
    },
    {
      "cell_type": "markdown",
      "metadata": {
        "id": "d_u79-ozWf-H"
      },
      "source": [
        "**Reshape (Only by single variable regression??)**"
      ]
    },
    {
      "cell_type": "code",
      "metadata": {
        "id": "lCZ5p3KGmBt6"
      },
      "source": [
        "X=X.reshape(-1,1)\n",
        "y=y.reshape(-1,1)"
      ],
      "execution_count": 106,
      "outputs": []
    },
    {
      "cell_type": "markdown",
      "metadata": {
        "id": "9H1F7OQDWwcX"
      },
      "source": [
        "**Define of regression model**"
      ]
    },
    {
      "cell_type": "code",
      "metadata": {
        "id": "JdFvH2N9HXJa"
      },
      "source": [
        "reg=LinearRegression()"
      ],
      "execution_count": 107,
      "outputs": []
    },
    {
      "cell_type": "markdown",
      "metadata": {
        "id": "v-MIOEdpXLSX"
      },
      "source": [
        "\n",
        "**Fitting the model to the data**"
      ]
    },
    {
      "cell_type": "code",
      "metadata": {
        "id": "-iRU1V1QHs57",
        "outputId": "b71c23c1-1df6-49cd-c875-6aa8c89e6600",
        "colab": {
          "base_uri": "https://localhost:8080/",
          "height": 34
        }
      },
      "source": [
        "reg.fit(X,y)"
      ],
      "execution_count": 108,
      "outputs": [
        {
          "output_type": "execute_result",
          "data": {
            "text/plain": [
              "LinearRegression(copy_X=True, fit_intercept=True, n_jobs=None, normalize=False)"
            ]
          },
          "metadata": {
            "tags": []
          },
          "execution_count": 108
        }
      ]
    },
    {
      "cell_type": "markdown",
      "metadata": {
        "id": "vpD7e8gLXdKw"
      },
      "source": [
        "**Compute predictions over the prediction space (range) --> if necassery**"
      ]
    },
    {
      "cell_type": "code",
      "metadata": {
        "id": "tUCl-LRYLGsM"
      },
      "source": [
        "Range=np.linspace(X.min(),X.max()).reshape(-1,1)"
      ],
      "execution_count": 109,
      "outputs": []
    },
    {
      "cell_type": "markdown",
      "metadata": {
        "id": "N9wRz87jX4oQ"
      },
      "source": [
        "**Calculate the prediction h = theta0 + theta1 * X**"
      ]
    },
    {
      "cell_type": "code",
      "metadata": {
        "id": "y_Yjc47NHwVV"
      },
      "source": [
        "h=reg.predict(Range)"
      ],
      "execution_count": 113,
      "outputs": []
    },
    {
      "cell_type": "markdown",
      "metadata": {
        "id": "u_4vZ7YnYU-2"
      },
      "source": [
        "**Calculate of R2**"
      ]
    },
    {
      "cell_type": "code",
      "metadata": {
        "id": "yxEhRXf5H1-S",
        "outputId": "04591ba4-370e-47a0-96f7-16abdf7eea8b",
        "colab": {
          "base_uri": "https://localhost:8080/",
          "height": 34
        }
      },
      "source": [
        "print(reg.score(X,y))"
      ],
      "execution_count": 111,
      "outputs": [
        {
          "output_type": "stream",
          "text": [
            "0.890916917957032\n"
          ],
          "name": "stdout"
        }
      ]
    },
    {
      "cell_type": "markdown",
      "metadata": {
        "id": "f3kLpxIqYd9d"
      },
      "source": [
        "**Plotting of regression** "
      ]
    },
    {
      "cell_type": "code",
      "metadata": {
        "id": "mnFprX-oKJ0g",
        "outputId": "2bee173b-0f42-457f-9ae8-3951cd809944",
        "colab": {
          "base_uri": "https://localhost:8080/",
          "height": 265
        }
      },
      "source": [
        "plt.scatter(X,y)\n",
        "plt.plot(Range,h,color='red',linewidth=3)\n",
        "plt.show()"
      ],
      "execution_count": 112,
      "outputs": [
        {
          "output_type": "display_data",
          "data": {
            "image/png": "[encoded data removed]",
            "text/plain": [
              "<Figure size 432x288 with 1 Axes>"
            ]
          },
          "metadata": {
            "tags": [],
            "needs_background": "light"
          }
        }
      ]
    },
    {
      "cell_type": "code",
      "metadata": {
        "id": "lhXHnWrpKbXv"
      },
      "source": [
        ""
      ],
      "execution_count": 112,
      "outputs": []
    }
  ]
}
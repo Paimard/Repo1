{
  "nbformat": 4,
  "nbformat_minor": 0,
  "metadata": {
    "colab": {
      "name": "Linear regression with one variable.ipynb",
      "provenance": [],
      "collapsed_sections": []
    },
    "kernelspec": {
      "name": "python3",
      "display_name": "Python 3"
    }
  },
  "cells": [
    {
      "cell_type": "code",
      "metadata": {
        "id": "EQiJN4ZdcqW4"
      },
      "source": [
        "import numpy as np\n",
        "import pandas as pd\n",
        "import matplotlib.pyplot as plt\n",
        "from sklearn.linear_model import LinearRegression\n",
        "%matplotlib inline"
      ],
      "execution_count": 73,
      "outputs": []
    },
    {
      "cell_type": "code",
      "metadata": {
        "id": "kGjwzk20csZ0",
        "outputId": "2dfc08ad-92b8-4723-fba6-be7d4bd7561d",
        "colab": {
          "base_uri": "https://localhost:8080/",
          "height": 204
        }
      },
      "source": [
        "new_cols=['year','per_capital_income_US$']\n",
        "df=pd.read_csv('Canada.csv',  header=None, names=new_cols, skiprows=1)\n",
        "#df=pd.read_table('http://bit.ly/chiporder')\n",
        "df.head()"
      ],
      "execution_count": 74,
      "outputs": [
        {
          "output_type": "execute_result",
          "data": {
            "text/html": [
              "<div>\n",
              "<style scoped>\n",
              "    .dataframe tbody tr th:only-of-type {\n",
              "        vertical-align: middle;\n",
              "    }\n",
              "\n",
              "    .dataframe tbody tr th {\n",
              "        vertical-align: top;\n",
              "    }\n",
              "\n",
              "    .dataframe thead th {\n",
              "        text-align: right;\n",
              "    }\n",
              "</style>\n",
              "<table border=\"1\" class=\"dataframe\">\n",
              "  <thead>\n",
              "    <tr style=\"text-align: right;\">\n",
              "      <th></th>\n",
              "      <th>year</th>\n",
              "      <th>per_capital_income_US$</th>\n",
              "    </tr>\n",
              "  </thead>\n",
              "  <tbody>\n",
              "    <tr>\n",
              "      <th>0</th>\n",
              "      <td>1970</td>\n",
              "      <td>3399.299037</td>\n",
              "    </tr>\n",
              "    <tr>\n",
              "      <th>1</th>\n",
              "      <td>1971</td>\n",
              "      <td>3768.297935</td>\n",
              "    </tr>\n",
              "    <tr>\n",
              "      <th>2</th>\n",
              "      <td>1972</td>\n",
              "      <td>4251.175484</td>\n",
              "    </tr>\n",
              "    <tr>\n",
              "      <th>3</th>\n",
              "      <td>1973</td>\n",
              "      <td>4804.463248</td>\n",
              "    </tr>\n",
              "    <tr>\n",
              "      <th>4</th>\n",
              "      <td>1974</td>\n",
              "      <td>5576.514583</td>\n",
              "    </tr>\n",
              "  </tbody>\n",
              "</table>\n",
              "</div>"
            ],
            "text/plain": [
              "   year  per_capital_income_US$\n",
              "0  1970             3399.299037\n",
              "1  1971             3768.297935\n",
              "2  1972             4251.175484\n",
              "3  1973             4804.463248\n",
              "4  1974             5576.514583"
            ]
          },
          "metadata": {
            "tags": []
          },
          "execution_count": 74
        }
      ]
    },
    {
      "cell_type": "code",
      "metadata": {
        "id": "yEqwH6recwU7",
        "outputId": "9473c096-8527-4288-80ed-62a85f2d953a",
        "colab": {
          "base_uri": "https://localhost:8080/",
          "height": 170
        }
      },
      "source": [
        "df.info()"
      ],
      "execution_count": 75,
      "outputs": [
        {
          "output_type": "stream",
          "text": [
            "<class 'pandas.core.frame.DataFrame'>\n",
            "RangeIndex: 47 entries, 0 to 46\n",
            "Data columns (total 2 columns):\n",
            " #   Column                  Non-Null Count  Dtype  \n",
            "---  ------                  --------------  -----  \n",
            " 0   year                    47 non-null     int64  \n",
            " 1   per_capital_income_US$  47 non-null     float64\n",
            "dtypes: float64(1), int64(1)\n",
            "memory usage: 880.0 bytes\n"
          ],
          "name": "stdout"
        }
      ]
    },
    {
      "cell_type": "code",
      "metadata": {
        "id": "6L8R2f6JdRIk",
        "outputId": "089aba2c-0cc9-4ff7-b8c6-c640c595e302",
        "colab": {
          "base_uri": "https://localhost:8080/",
          "height": 68
        }
      },
      "source": [
        "df.isnull().sum()"
      ],
      "execution_count": 76,
      "outputs": [
        {
          "output_type": "execute_result",
          "data": {
            "text/plain": [
              "year                      0\n",
              "per_capital_income_US$    0\n",
              "dtype: int64"
            ]
          },
          "metadata": {
            "tags": []
          },
          "execution_count": 76
        }
      ]
    },
    {
      "cell_type": "markdown",
      "metadata": {
        "id": "Hw_ZiUp2dsba"
      },
      "source": [
        "**Plotting** of Data for better overview"
      ]
    },
    {
      "cell_type": "code",
      "metadata": {
        "id": "CGcwE6ybdXT5",
        "outputId": "e112d95d-e53f-4182-b365-586b0c941298",
        "colab": {
          "base_uri": "https://localhost:8080/",
          "height": 282
        }
      },
      "source": [
        "plt.scatter(df.year,df['per_capital_income_US$'],color='blue',marker='+')"
      ],
      "execution_count": 77,
      "outputs": [
        {
          "output_type": "execute_result",
          "data": {
            "text/plain": [
              "<matplotlib.collections.PathCollection at 0x7f864275a080>"
            ]
          },
          "metadata": {
            "tags": []
          },
          "execution_count": 77
        },
        {
          "output_type": "display_data",
          "data": {
            "image/png": "[encoded data removed]",
            "text/plain": [
              "<Figure size 432x288 with 1 Axes>"
            ]
          },
          "metadata": {
            "tags": [],
            "needs_background": "light"
          }
        }
      ]
    },
    {
      "cell_type": "code",
      "metadata": {
        "id": "gZeeZRLMf-g3"
      },
      "source": [
        "X=df['year'].values"
      ],
      "execution_count": 78,
      "outputs": []
    },
    {
      "cell_type": "code",
      "metadata": {
        "id": "7XZwaJ5wgSFP"
      },
      "source": [
        "y=df['per_capital_income_US$'].values"
      ],
      "execution_count": 79,
      "outputs": []
    },
    {
      "cell_type": "code",
      "metadata": {
        "id": "lCZ5p3KGmBt6"
      },
      "source": [
        "X=X.reshape(-1,1)\n",
        "y=y.reshape(-1,1)"
      ],
      "execution_count": 80,
      "outputs": []
    },
    {
      "cell_type": "code",
      "metadata": {
        "id": "JdFvH2N9HXJa"
      },
      "source": [
        "reg=LinearRegression()"
      ],
      "execution_count": 81,
      "outputs": []
    },
    {
      "cell_type": "code",
      "metadata": {
        "id": "-iRU1V1QHs57",
        "outputId": "0c624c6a-119a-4f27-e6fa-14e7efa491fc",
        "colab": {
          "base_uri": "https://localhost:8080/",
          "height": 34
        }
      },
      "source": [
        "reg.fit(X,y)"
      ],
      "execution_count": 82,
      "outputs": [
        {
          "output_type": "execute_result",
          "data": {
            "text/plain": [
              "LinearRegression(copy_X=True, fit_intercept=True, n_jobs=None, normalize=False)"
            ]
          },
          "metadata": {
            "tags": []
          },
          "execution_count": 82
        }
      ]
    },
    {
      "cell_type": "code",
      "metadata": {
        "id": "tUCl-LRYLGsM"
      },
      "source": [
        "Range=np.linspace(X.min(),X.max()).reshape(-1,1)"
      ],
      "execution_count": 83,
      "outputs": []
    },
    {
      "cell_type": "code",
      "metadata": {
        "id": "y_Yjc47NHwVV",
        "outputId": "a36883b3-3c5a-4d0a-fd3a-e129ba77c21c",
        "colab": {
          "base_uri": "https://localhost:8080/",
          "height": 867
        }
      },
      "source": [
        "h=reg.predict(Range)\n",
        "print(h)"
      ],
      "execution_count": 87,
      "outputs": [
        {
          "output_type": "stream",
          "text": [
            "[[ -134.55966672]\n",
            " [  643.18305696]\n",
            " [ 1420.92578064]\n",
            " [ 2198.66850432]\n",
            " [ 2976.411228  ]\n",
            " [ 3754.15395167]\n",
            " [ 4531.89667535]\n",
            " [ 5309.63939903]\n",
            " [ 6087.38212271]\n",
            " [ 6865.12484639]\n",
            " [ 7642.86757007]\n",
            " [ 8420.61029375]\n",
            " [ 9198.35301742]\n",
            " [ 9976.0957411 ]\n",
            " [10753.83846478]\n",
            " [11531.58118846]\n",
            " [12309.32391214]\n",
            " [13087.06663582]\n",
            " [13864.80935949]\n",
            " [14642.55208317]\n",
            " [15420.29480685]\n",
            " [16198.03753053]\n",
            " [16975.78025421]\n",
            " [17753.52297789]\n",
            " [18531.26570157]\n",
            " [19309.00842524]\n",
            " [20086.75114892]\n",
            " [20864.4938726 ]\n",
            " [21642.23659628]\n",
            " [22419.97931996]\n",
            " [23197.72204364]\n",
            " [23975.46476731]\n",
            " [24753.20749099]\n",
            " [25530.95021467]\n",
            " [26308.69293835]\n",
            " [27086.43566203]\n",
            " [27864.17838571]\n",
            " [28641.92110939]\n",
            " [29419.66383306]\n",
            " [30197.40655674]\n",
            " [30975.14928042]\n",
            " [31752.8920041 ]\n",
            " [32530.63472778]\n",
            " [33308.37745146]\n",
            " [34086.12017513]\n",
            " [34863.86289881]\n",
            " [35641.60562249]\n",
            " [36419.34834617]\n",
            " [37197.09106985]\n",
            " [37974.83379353]]\n"
          ],
          "name": "stdout"
        }
      ]
    },
    {
      "cell_type": "code",
      "metadata": {
        "id": "yxEhRXf5H1-S",
        "outputId": "ba2aa1d3-88d5-4e45-ef62-43e6f21225b5",
        "colab": {
          "base_uri": "https://localhost:8080/",
          "height": 34
        }
      },
      "source": [
        "print(reg.score(X,y))"
      ],
      "execution_count": 88,
      "outputs": [
        {
          "output_type": "stream",
          "text": [
            "0.890916917957032\n"
          ],
          "name": "stdout"
        }
      ]
    },
    {
      "cell_type": "code",
      "metadata": {
        "id": "mnFprX-oKJ0g",
        "outputId": "c9e24d9a-669b-49ab-ae2c-877892cf9eb7",
        "colab": {
          "base_uri": "https://localhost:8080/",
          "height": 265
        }
      },
      "source": [
        "plt.scatter(X,y)\n",
        "plt.plot(Range,h,color='red')\n",
        "plt.show()"
      ],
      "execution_count": 91,
      "outputs": [
        {
          "output_type": "display_data",
          "data": {
            "image/png": "[encoded data removed]",
            "text/plain": [
              "<Figure size 432x288 with 1 Axes>"
            ]
          },
          "metadata": {
            "tags": [],
            "needs_background": "light"
          }
        }
      ]
    },
    {
      "cell_type": "code",
      "metadata": {
        "id": "lhXHnWrpKbXv"
      },
      "source": [
        ""
      ],
      "execution_count": null,
      "outputs": []
    }
  ]
}